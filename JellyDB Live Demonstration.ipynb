{
 "cells": [
  {
   "cell_type": "markdown",
   "metadata": {},
   "source": [
    "# JellyDB Live Demonstration\n",
    "### Presented by Team JeLLY-B  "
   ]
  },
  {
   "cell_type": "markdown",
   "metadata": {},
   "source": [
    "# Performance Testing\n",
    "Calling __main.py"
   ]
  },
  {
   "cell_type": "code",
   "execution_count": 1,
   "metadata": {
    "scrolled": true
   },
   "outputs": [
    {
     "name": "stdout",
     "output_type": "stream",
     "text": [
      "Inserting 10k records took:  \t\t\t 2.171875\n",
      "Updating 10k records took:  \t\t\t 5.203125\n",
      "Selecting 10k records took:  \t\t\t 2.921875\n",
      "Aggregate 10k of 100 record batch took:\t 0.0\n",
      "Deleting 10k records took:  \t\t\t 1.78125\n"
     ]
    }
   ],
   "source": [
    "!python -m JellyDB\n",
    "\n",
    "from JellyDB.db import Database\n",
    "from JellyDB.query import Query\n",
    "from JellyDB.config import Config"
   ]
  },
  {
   "cell_type": "markdown",
   "metadata": {},
   "source": [
    "# Basic Functionality \n",
    "\n",
    "At its core, JellyDB effectively stores data in a simple, L-Store style, columnar storage database. "
   ]
  },
  {
   "cell_type": "markdown",
   "metadata": {},
   "source": [
    "**Creating Databases**\n",
    "\n",
    "By calling 'create_table()' we're able to create a new database based on a user-called key and length.\n",
    "\n",
    "Suppose we survey individuals for their three favorite numbers: "
   ]
  },
  {
   "cell_type": "code",
   "execution_count": 10,
   "metadata": {},
   "outputs": [
    {
     "name": "stdout",
     "output_type": "stream",
     "text": [
      "\n",
      "Table 'fav_numbers' successfully created.\n"
     ]
    }
   ],
   "source": [
    "db = Database()\n",
    "\n",
    "fav_numbers = db.create_table('fav_numbers', 4, 0)\n",
    "\n",
    "try:\n",
    "    assert fav_numbers._name == \"fav_numbers\"\n",
    "    assert fav_numbers._num_columns == 4 + Config.METADATA_COLUMN_COUNT\n",
    "    assert fav_numbers._key == 0\n",
    "    print(\"\\nTable 'fav_numbers' successfully created.\")\n",
    "\n",
    "except Exception as exc:\n",
    "    print(\"\\nCreating table FAILED\")\n",
    "    print(traceback.format_exc())"
   ]
  },
  {
   "cell_type": "markdown",
   "metadata": {},
   "source": [
    "Or if we want to record winning lottery numbers by day:"
   ]
  },
  {
   "cell_type": "code",
   "execution_count": 11,
   "metadata": {},
   "outputs": [
    {
     "name": "stdout",
     "output_type": "stream",
     "text": [
      "\n",
      "Table 'winning_lotto' successfully created.\n"
     ]
    }
   ],
   "source": [
    "winning_lotto_numbers = db.create_table('winning_lotto', 7, 0)\n",
    "\n",
    "try:\n",
    "    assert winning_lotto_numbers._name == \"winning_lotto\"\n",
    "    assert winning_lotto_numbers._num_columns == 7 + Config.METADATA_COLUMN_COUNT\n",
    "    assert winning_lotto_numbers._key == 0\n",
    "    print(\"\\nTable 'winning_lotto' successfully created.\")\n",
    "\n",
    "except Exception as exc:\n",
    "    print(\"winning_lotto create table FAILED\")\n",
    "    print(traceback.format_exc())"
   ]
  },
  {
   "cell_type": "markdown",
   "metadata": {},
   "source": [
    "We're able to create a space to store that data. "
   ]
  },
  {
   "cell_type": "markdown",
   "metadata": {},
   "source": [
    "**Inserting and Referencing Table Information**\n",
    "\n",
    "Once we've built a table, we can insert new records and call them. For our survey responses, we'll input the response number and each respective set of three responses: "
   ]
  },
  {
   "cell_type": "code",
   "execution_count": 12,
   "metadata": {},
   "outputs": [
    {
     "name": "stdout",
     "output_type": "stream",
     "text": [
      "\n",
      "Inserting records into fav_numbers passed.\n"
     ]
    }
   ],
   "source": [
    "query = Query(fav_numbers)\n",
    "\n",
    "response1 = [1, 5, 6, 7]\n",
    "response2 = [2, 25, 26, 27]\n",
    "response3 = [3, 99, 98, 97]\n",
    "\n",
    "query.insert(*response1)\n",
    "query.insert(*response2)\n",
    "query.insert(*response3)\n",
    "\n",
    "try:\n",
    "    for testkey in [1, 2, 3]:\n",
    "        s = query.select(testkey, [1, 1, 1, 1])[0].columns\n",
    "        assert len(s) == 4\n",
    "        assert s[0] == testkey\n",
    "    print(\"\\nInserting records into fav_numbers passed.\")\n",
    "except Exception as exc:\n",
    "        print(\"\\nTable insertions FAILED\")\n",
    "        print(traceback.format_exc())"
   ]
  },
  {
   "cell_type": "markdown",
   "metadata": {},
   "source": [
    "Should we (accidentally) try to insert the respondant's information again we'll throw an error: "
   ]
  },
  {
   "cell_type": "code",
   "execution_count": 5,
   "metadata": {
    "scrolled": true
   },
   "outputs": [
    {
     "ename": "Exception",
     "evalue": "Error: The primary key 3 is already in use",
     "output_type": "error",
     "traceback": [
      "\u001b[1;31m---------------------------------------------------------------------------\u001b[0m",
      "\u001b[1;31mException\u001b[0m                                 Traceback (most recent call last)",
      "\u001b[1;32m<ipython-input-5-a1be34a26a29>\u001b[0m in \u001b[0;36m<module>\u001b[1;34m\u001b[0m\n\u001b[1;32m----> 1\u001b[1;33m \u001b[0mquery\u001b[0m\u001b[1;33m.\u001b[0m\u001b[0minsert\u001b[0m\u001b[1;33m(\u001b[0m\u001b[1;33m*\u001b[0m\u001b[0mresponse3\u001b[0m\u001b[1;33m)\u001b[0m \u001b[1;31m# value already exists\u001b[0m\u001b[1;33m\u001b[0m\u001b[1;33m\u001b[0m\u001b[0m\n\u001b[0m",
      "\u001b[1;32m~\\Google Drive\\UC Davis\\2020-02 Winter\\165A Database Systems\\JellyDB\\JellyDB\\query.py\u001b[0m in \u001b[0;36minsert\u001b[1;34m(self, *columns)\u001b[0m\n\u001b[0;32m     22\u001b[0m     \"\"\"\n\u001b[0;32m     23\u001b[0m     \u001b[1;32mdef\u001b[0m \u001b[0minsert\u001b[0m\u001b[1;33m(\u001b[0m\u001b[0mself\u001b[0m\u001b[1;33m,\u001b[0m \u001b[1;33m*\u001b[0m\u001b[0mcolumns\u001b[0m\u001b[1;33m)\u001b[0m\u001b[1;33m:\u001b[0m\u001b[1;33m\u001b[0m\u001b[1;33m\u001b[0m\u001b[0m\n\u001b[1;32m---> 24\u001b[1;33m         \u001b[0mself\u001b[0m\u001b[1;33m.\u001b[0m\u001b[0mtable\u001b[0m\u001b[1;33m.\u001b[0m\u001b[0minsert\u001b[0m\u001b[1;33m(\u001b[0m\u001b[0mcolumns\u001b[0m\u001b[1;33m)\u001b[0m\u001b[1;33m\u001b[0m\u001b[1;33m\u001b[0m\u001b[0m\n\u001b[0m\u001b[0;32m     25\u001b[0m \u001b[1;33m\u001b[0m\u001b[0m\n\u001b[0;32m     26\u001b[0m     \"\"\"\n",
      "\u001b[1;32m~\\Google Drive\\UC Davis\\2020-02 Winter\\165A Database Systems\\JellyDB\\JellyDB\\table.py\u001b[0m in \u001b[0;36minsert\u001b[1;34m(self, columns, verbose)\u001b[0m\n\u001b[0;32m    104\u001b[0m         \u001b[0mprimary_key_value\u001b[0m \u001b[1;33m=\u001b[0m \u001b[0mcolumns\u001b[0m\u001b[1;33m[\u001b[0m\u001b[0mself\u001b[0m\u001b[1;33m.\u001b[0m\u001b[0m_key\u001b[0m\u001b[1;33m]\u001b[0m\u001b[1;33m\u001b[0m\u001b[1;33m\u001b[0m\u001b[0m\n\u001b[0;32m    105\u001b[0m         \u001b[1;32mif\u001b[0m \u001b[0mself\u001b[0m\u001b[1;33m.\u001b[0m\u001b[0m_indices\u001b[0m\u001b[1;33m.\u001b[0m\u001b[0mcontains\u001b[0m\u001b[1;33m(\u001b[0m\u001b[0mself\u001b[0m\u001b[1;33m.\u001b[0m\u001b[0minternal_id\u001b[0m\u001b[1;33m(\u001b[0m\u001b[0mself\u001b[0m\u001b[1;33m.\u001b[0m\u001b[0m_key\u001b[0m\u001b[1;33m)\u001b[0m\u001b[1;33m,\u001b[0m \u001b[0mprimary_key_value\u001b[0m\u001b[1;33m)\u001b[0m\u001b[1;33m:\u001b[0m\u001b[1;33m\u001b[0m\u001b[1;33m\u001b[0m\u001b[0m\n\u001b[1;32m--> 106\u001b[1;33m             \u001b[1;32mraise\u001b[0m \u001b[0mException\u001b[0m\u001b[1;33m(\u001b[0m\u001b[1;34m\"Error: The primary key {} is already in use\"\u001b[0m\u001b[1;33m.\u001b[0m\u001b[0mformat\u001b[0m\u001b[1;33m(\u001b[0m\u001b[0mstr\u001b[0m\u001b[1;33m(\u001b[0m\u001b[0mprimary_key_value\u001b[0m\u001b[1;33m)\u001b[0m\u001b[1;33m)\u001b[0m\u001b[1;33m)\u001b[0m\u001b[1;33m\u001b[0m\u001b[1;33m\u001b[0m\u001b[0m\n\u001b[0m\u001b[0;32m    107\u001b[0m \u001b[1;33m\u001b[0m\u001b[0m\n\u001b[0;32m    108\u001b[0m         \u001b[1;31m# Prepend metadata to columns\u001b[0m\u001b[1;33m\u001b[0m\u001b[1;33m\u001b[0m\u001b[1;33m\u001b[0m\u001b[0m\n",
      "\u001b[1;31mException\u001b[0m: Error: The primary key 3 is already in use"
     ]
    }
   ],
   "source": [
    "query.insert(*response3) # value already exists"
   ]
  },
  {
   "cell_type": "markdown",
   "metadata": {},
   "source": [
    "This helps to maintain the integrity of the database. \n",
    "\n",
    "We can see that the records were successfully inserted on the first round.\n"
   ]
  },
  {
   "cell_type": "code",
   "execution_count": null,
   "metadata": {},
   "outputs": [],
   "source": [
    "for responses in [1, 2, 3]:\n",
    "            # Select returns list of record objects\n",
    "            r = query.select(responses, [1, 1, 1, 1])\n",
    "            # Should only return 1 record each\n",
    "            assert len(r) == 1\n",
    "            # Print values\n",
    "            print(r[0].columns)"
   ]
  },
  {
   "cell_type": "markdown",
   "metadata": {},
   "source": [
    "**Updating Records**\n",
    "\n",
    "To update a set of responses, however, we can simply call the update function for a specific key. \n",
    "\n",
    "If we want to update the third set of responses: "
   ]
  },
  {
   "cell_type": "code",
   "execution_count": 8,
   "metadata": {},
   "outputs": [
    {
     "name": "stdout",
     "output_type": "stream",
     "text": [
      "Updated Values: \n",
      "[3, 12, 20, 24]\n"
     ]
    }
   ],
   "source": [
    "query.update(3, *(None, 12, 20, 24))\n",
    "\n",
    "print(\"Updated Values: \")\n",
    "print(query.select(3, [1, 1, 1, 1])[0].columns)"
   ]
  },
  {
   "cell_type": "markdown",
   "metadata": {},
   "source": [
    "**Deleting Records**\n",
    "\n",
    "In accordance with good database structure, the user is also able to delete existing records. "
   ]
  },
  {
   "cell_type": "code",
   "execution_count": 13,
   "metadata": {},
   "outputs": [
    {
     "ename": "Exception",
     "evalue": "Someone inserted multiple records with the same key into the primary key index!",
     "output_type": "error",
     "traceback": [
      "\u001b[1;31m---------------------------------------------------------------------------\u001b[0m",
      "\u001b[1;31mException\u001b[0m                                 Traceback (most recent call last)",
      "\u001b[1;32m<ipython-input-13-d67ecd2b2ce5>\u001b[0m in \u001b[0;36m<module>\u001b[1;34m\u001b[0m\n\u001b[0;32m      1\u001b[0m \u001b[0mquery\u001b[0m\u001b[1;33m.\u001b[0m\u001b[0mdelete\u001b[0m\u001b[1;33m(\u001b[0m\u001b[1;36m1\u001b[0m\u001b[1;33m)\u001b[0m\u001b[1;33m\u001b[0m\u001b[1;33m\u001b[0m\u001b[0m\n\u001b[1;32m----> 2\u001b[1;33m \u001b[0ms\u001b[0m\u001b[1;33m=\u001b[0m \u001b[0mquery\u001b[0m\u001b[1;33m.\u001b[0m\u001b[0mselect\u001b[0m\u001b[1;33m(\u001b[0m\u001b[1;36m1\u001b[0m\u001b[1;33m,\u001b[0m \u001b[1;33m[\u001b[0m\u001b[1;36m1\u001b[0m\u001b[1;33m,\u001b[0m \u001b[1;36m1\u001b[0m\u001b[1;33m,\u001b[0m \u001b[1;36m1\u001b[0m\u001b[1;33m,\u001b[0m \u001b[1;36m1\u001b[0m\u001b[1;33m]\u001b[0m\u001b[1;33m)\u001b[0m\u001b[1;33m[\u001b[0m\u001b[1;36m0\u001b[0m\u001b[1;33m]\u001b[0m\u001b[1;33m.\u001b[0m\u001b[0mcolumns\u001b[0m\u001b[1;33m\u001b[0m\u001b[1;33m\u001b[0m\u001b[0m\n\u001b[0m\u001b[0;32m      3\u001b[0m \u001b[1;33m\u001b[0m\u001b[0m\n\u001b[0;32m      4\u001b[0m \u001b[1;32mtry\u001b[0m\u001b[1;33m:\u001b[0m\u001b[1;33m\u001b[0m\u001b[1;33m\u001b[0m\u001b[0m\n\u001b[0;32m      5\u001b[0m     \u001b[1;32massert\u001b[0m \u001b[0ms\u001b[0m \u001b[1;33m==\u001b[0m \u001b[1;32mNone\u001b[0m\u001b[1;33m\u001b[0m\u001b[1;33m\u001b[0m\u001b[0m\n",
      "\u001b[1;32m~\\Google Drive\\UC Davis\\2020-02 Winter\\165A Database Systems\\JellyDB\\JellyDB\\query.py\u001b[0m in \u001b[0;36mselect\u001b[1;34m(self, key, query_columns)\u001b[0m\n\u001b[0;32m     28\u001b[0m     \"\"\"\n\u001b[0;32m     29\u001b[0m     \u001b[1;32mdef\u001b[0m \u001b[0mselect\u001b[0m\u001b[1;33m(\u001b[0m\u001b[0mself\u001b[0m\u001b[1;33m,\u001b[0m \u001b[0mkey\u001b[0m\u001b[1;33m:\u001b[0m \u001b[0mint\u001b[0m\u001b[1;33m,\u001b[0m \u001b[0mquery_columns\u001b[0m\u001b[1;33m)\u001b[0m\u001b[1;33m:\u001b[0m\u001b[1;33m\u001b[0m\u001b[1;33m\u001b[0m\u001b[0m\n\u001b[1;32m---> 30\u001b[1;33m         \u001b[1;32mreturn\u001b[0m \u001b[0mself\u001b[0m\u001b[1;33m.\u001b[0m\u001b[0mtable\u001b[0m\u001b[1;33m.\u001b[0m\u001b[0mselect\u001b[0m\u001b[1;33m(\u001b[0m\u001b[0mkey\u001b[0m\u001b[1;33m,\u001b[0m \u001b[0mquery_columns\u001b[0m\u001b[1;33m)\u001b[0m\u001b[1;33m\u001b[0m\u001b[1;33m\u001b[0m\u001b[0m\n\u001b[0m\u001b[0;32m     31\u001b[0m \u001b[1;33m\u001b[0m\u001b[0m\n\u001b[0;32m     32\u001b[0m     \"\"\"\n",
      "\u001b[1;32m~\\Google Drive\\UC Davis\\2020-02 Winter\\165A Database Systems\\JellyDB\\JellyDB\\table.py\u001b[0m in \u001b[0;36mselect\u001b[1;34m(self, keyword, query_columns)\u001b[0m\n\u001b[0;32m    157\u001b[0m             \u001b[0mRID\u001b[0m \u001b[1;33m=\u001b[0m \u001b[0mRIDs\u001b[0m\u001b[1;33m[\u001b[0m\u001b[1;36m0\u001b[0m\u001b[1;33m]\u001b[0m\u001b[1;33m\u001b[0m\u001b[1;33m\u001b[0m\u001b[0m\n\u001b[0;32m    158\u001b[0m         \u001b[1;32melse\u001b[0m\u001b[1;33m:\u001b[0m\u001b[1;33m\u001b[0m\u001b[1;33m\u001b[0m\u001b[0m\n\u001b[1;32m--> 159\u001b[1;33m             \u001b[1;32mraise\u001b[0m \u001b[0mException\u001b[0m\u001b[1;33m(\u001b[0m\u001b[1;34m\"Someone inserted multiple records with the same key into the primary key index!\"\u001b[0m\u001b[1;33m)\u001b[0m\u001b[1;33m\u001b[0m\u001b[1;33m\u001b[0m\u001b[0m\n\u001b[0m\u001b[0;32m    160\u001b[0m \u001b[1;33m\u001b[0m\u001b[0m\n\u001b[0;32m    161\u001b[0m         \u001b[1;31m# Get location of that base RID\u001b[0m\u001b[1;33m\u001b[0m\u001b[1;33m\u001b[0m\u001b[1;33m\u001b[0m\u001b[0m\n",
      "\u001b[1;31mException\u001b[0m: Someone inserted multiple records with the same key into the primary key index!"
     ]
    }
   ],
   "source": [
    "query.delete(1)\n",
    "s= query.select(1, [1, 1, 1, 1])[0].columns \n",
    "\n",
    "try: \n",
    "    assert s == None\n",
    "    print(\"Record successfully deleted.\")\n",
    "except Exception as exc:\n",
    "    print(\"\\nRecord deletion FAILED\")\n",
    "    print(traceback.format_exc())"
   ]
  },
  {
   "cell_type": "markdown",
   "metadata": {},
   "source": [
    "**Summation of Records**\n",
    "\n",
    "In addition to basic SQL functions, we can also add two values together. In this case, we want to add the second column of rows with primary keys 2 and 3: "
   ]
  },
  {
   "cell_type": "code",
   "execution_count": null,
   "metadata": {},
   "outputs": [],
   "source": [
    "print(query.select(2, [1, 1, 1, 1])[0].columns)\n",
    "print(query.select(3, [1, 1, 1, 1])[0].columns)\n",
    "\n",
    "query.sum(2,3,2)"
   ]
  },
  {
   "cell_type": "markdown",
   "metadata": {},
   "source": [
    "## Error Handling\n",
    "\n",
    "While we've shown that we can handle duplication errors on insertion, we've also accounted for several other user errors: \n",
    "\n",
    " - Attempting to delete a non-existent record\n"
   ]
  },
  {
   "cell_type": "code",
   "execution_count": null,
   "metadata": {
    "scrolled": true
   },
   "outputs": [],
   "source": [
    "# delete column 1.. again. \n",
    "query.delete(1)\n"
   ]
  },
  {
   "cell_type": "markdown",
   "metadata": {},
   "source": [
    " - Attempting to update a deleted record "
   ]
  },
  {
   "cell_type": "code",
   "execution_count": null,
   "metadata": {},
   "outputs": [],
   "source": [
    "# update deleted column 1\n",
    "query.update(1, *(None, 12, 20, 34))"
   ]
  }
 ],
 "metadata": {
  "kernelspec": {
   "display_name": "Python 3",
   "language": "python",
   "name": "python3"
  },
  "language_info": {
   "codemirror_mode": {
    "name": "ipython",
    "version": 3
   },
   "file_extension": ".py",
   "mimetype": "text/x-python",
   "name": "python",
   "nbconvert_exporter": "python",
   "pygments_lexer": "ipython3",
   "version": "3.7.4"
  }
 },
 "nbformat": 4,
 "nbformat_minor": 2
}
